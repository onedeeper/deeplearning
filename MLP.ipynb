{
 "cells": [
  {
   "cell_type": "markdown",
   "id": "7e1447ab",
   "metadata": {},
   "source": [
    "## The world's worst (probably slowest) neural network written completely from scratch using just numpy.\n",
    "\n",
    "### Currently only capable of doing binary classification with a single output neuron.\n",
    "### However, you can add as many hidden layers with as many neurons as you want.\n"
   ]
  },
  {
   "cell_type": "code",
   "execution_count": 1,
   "id": "13871338",
   "metadata": {},
   "outputs": [],
   "source": [
    "import numpy as np"
   ]
  },
  {
   "cell_type": "code",
   "execution_count": 2,
   "id": "b56b57d8",
   "metadata": {},
   "outputs": [],
   "source": [
    "# define some useful functions\n",
    "def sigmoid(z):\n",
    "    return 1/(1 + np.exp(-z))\n",
    "\n",
    "def d_sigmoid(z):\n",
    "    return sigmoid(z)*(1 - sigmoid(z))\n",
    "\n",
    "def cross_entropy(pred, target):\n",
    "    return -(target*np.log(pred) + (1-target)*np.log(1 - pred))\n",
    "\n",
    "def d_cross_entropy(pred, target):\n",
    "    return (pred - target) / (pred - pred**2)\n",
    "\n",
    "def step(z):\n",
    "    if z >= 0:\n",
    "        return 1\n",
    "    else:\n",
    "        return 0"
   ]
  },
  {
   "cell_type": "code",
   "execution_count": 3,
   "id": "a5bb0154",
   "metadata": {},
   "outputs": [],
   "source": [
    "# lets create a neuron. The basic unit of our neural network.\n",
    "# a neuron does one job : take the inputs, compute a weighted average using the weights and provide an output\n",
    "# the weights can be updated by some learning algorithm until we get what we want.\n",
    "class Neuron:\n",
    "    def __init__(self, weights):\n",
    "        # At initialization\n",
    "        # the neuron takes 1 argument : weights which is a numpy array of the same dimension as the input array\n",
    "        self.weights = weights\n",
    "        self.bias = 0.0\n",
    "        self.activation = 0.0\n",
    "    def compute(self, input_array):\n",
    "        import numpy as np\n",
    "        self.input = input_array\n",
    "        self.z = np.dot(input_array, self.weights) + self.bias\n",
    "        self.activation = sigmoid(self.z)\n",
    "        self.df_dz = d_sigmoid(self.z)\n",
    "\n",
    "    def __repr__(self):\n",
    "        return('{} input Neuron'.format(len(self.weights)))"
   ]
  },
  {
   "cell_type": "code",
   "execution_count": 4,
   "id": "2a77818f",
   "metadata": {},
   "outputs": [],
   "source": [
    "#First lets define a layer which is a collection of neurons\n",
    "class Layer:\n",
    "    # define the number of nodes\n",
    "    def __init__(self, n_nodes = 1, input_size = 1, output_size = 1, prev_layer = None,next_layer = None):\n",
    "        self.prev_layer = prev_layer\n",
    "        self.next_layer = next_layer\n",
    "        self.n_nodes = n_nodes\n",
    "        self.nodes = []\n",
    "        self.output = np.zeros(output_size)\n",
    "        for n in range(n_nodes):\n",
    "            weights = np.random.normal(0,1, size = input_size)\n",
    "            node = Neuron(weights)\n",
    "            self.nodes.append(node)\n",
    "    def calculate_layer_output(self, input_array):\n",
    "        for node_num, node in enumerate(self.nodes):\n",
    "            node.compute(input_array)\n",
    "            self.output[node_num] = node.activation\n",
    "    def update(self):\n",
    "        for node_num, node in enumerate(self.nodes):\n",
    "            print(node)\n",
    "    def update_output_layer(self, target, lr = 0.01):\n",
    "        dl_da = d_cross_entropy(pred = self.output, target = target)\n",
    "        self.delta_output = dl_da*self.nodes[0].df_dz\n",
    "        d_w = lr*self.delta_output*self.nodes[0].input\n",
    "        d_b = lr*self.delta_output\n",
    "        self.nodes[0].weights -= d_w\n",
    "        self.nodes[0].bias -= d_b\n",
    "    def __repr__(self):\n",
    "        return (\"{} nodes\".format(self.n_nodes))"
   ]
  },
  {
   "cell_type": "code",
   "execution_count": 5,
   "id": "f06d6881",
   "metadata": {},
   "outputs": [],
   "source": [
    "# Next lets define a network which is a collection of layers\n",
    "class network:\n",
    "    layer_num = 0;\n",
    "    lr = 0.01\n",
    "    def __init__(self):\n",
    "        self.head = None\n",
    "        self.tail = None\n",
    "    # forward pass on the network\n",
    "    def add_layer(self, n_nodes,node_input_size, layer_output_size):\n",
    "        layer = Layer(prev_layer = self.tail, \n",
    "                      next_layer = None, \n",
    "                      n_nodes=n_nodes,\n",
    "                      input_size=node_input_size,\n",
    "                      output_size=layer_output_size)\n",
    "        if self.head == None:\n",
    "            self.head = layer\n",
    "            self.tail = layer\n",
    "        else:\n",
    "            layer = Layer(prev_layer = self.tail, \n",
    "                      next_layer = None, \n",
    "                      n_nodes=n_nodes,\n",
    "                      input_size=node_input_size,\n",
    "                      output_size=layer_output_size)\n",
    "            self.tail.next_layer = layer\n",
    "        if self.tail == None:\n",
    "            self.tail = self.head\n",
    "        else:\n",
    "            self.tail = layer\n",
    "    def forward(self, input_array):\n",
    "        # start with the head of the network\n",
    "        self.input = input_array\n",
    "        self.output = None\n",
    "        current_layer = self.head\n",
    "        network.layer_num = 0\n",
    "        # if you're at the last layer, generate the output and save it as the output of the network\n",
    "        while current_layer.next_layer != None:\n",
    "            network.layer_num += 1\n",
    "            current_layer.calculate_layer_output(input_array)\n",
    "            input_array = current_layer.output\n",
    "            current_layer = current_layer.next_layer\n",
    "        else:\n",
    "            network.layer_num += 1\n",
    "            current_layer.calculate_layer_output(input_array)\n",
    "            self.output = current_layer.output\n",
    "    def backward(self, target):\n",
    "        \"\"\"Backpropagation algorithm\n",
    "        1. Calculate the error at the output layer\n",
    "        2. Calculate the error at the hidden layer\n",
    "        3. Update the weights and biases\n",
    "        4. Repeat for n iterations\n",
    "\n",
    "        recursively calculates the error at each layer\n",
    "        \"\"\"\n",
    "        current_layer = self.head\n",
    "        self.target = target\n",
    "        def recurse(current_layer):\n",
    "            if current_layer.next_layer == None:\n",
    "                current_layer.update_output_layer(self.target)\n",
    "                return (current_layer.delta_output)\n",
    "            next_node_delta = recurse(current_layer.next_layer)\n",
    "            next_layer_weights = np.array([v.weights for v in current_layer.next_layer.nodes])\n",
    "            current_layer_df_dz = np.array([v.df_dz for v in current_layer.nodes])\n",
    "            current_layer_input = np.array([v.input for v in current_layer.nodes])\n",
    "            current_layer_delta = np.matmul(np.transpose(next_layer_weights, [1,0]), next_node_delta)* current_layer_df_dz\n",
    "            current_layer_weights = np.array([v.weights for v in current_layer.nodes])\n",
    "            current_layer_weights -= network.lr*np.multiply(current_layer_delta,current_layer_input.T).T\n",
    "            current_layer_biases = np.array([v.bias for v in current_layer.nodes])\n",
    "            current_layer_biases -= network.lr*current_layer_delta.flatten()\n",
    "            for node_num, node in enumerate(current_layer.nodes):\n",
    "                node.weights = current_layer_weights[node_num]\n",
    "                node.bias = current_layer_biases[node_num]\n",
    "            return current_layer_delta\n",
    "        recurse(current_layer)\n",
    "    def display_network(self):\n",
    "        # displays the network after training\n",
    "        start = self.head\n",
    "        while start.next_layer != None:\n",
    "            print(f\"layer : {start.nodes}\")\n",
    "            for node in start.nodes:\n",
    "                print(f\"node : {node.weights}\")\n",
    "            start = start.next_layer\n",
    "        else:\n",
    "            print(f\"layer : {start.nodes}\")\n",
    "            for node in start.nodes:\n",
    "                print(f\"node : {node.weights}\")\n",
    "    def train(self, features, labels, iterations, lr = 0.01):\n",
    "        # training loop\n",
    "        for itr in range(iterations):\n",
    "            for v in range(features.shape[0]):\n",
    "                self.forward(features[v])\n",
    "                self.backward(labels[v])\n",
    "    def predict(self, features):\n",
    "        predictions = []\n",
    "        for v in range(features.shape[0]):\n",
    "            self.forward(features[v])\n",
    "            predictions.append(self.output[0])\n",
    "        return predictions\n"
   ]
  },
  {
   "cell_type": "markdown",
   "id": "b2330086",
   "metadata": {},
   "source": [
    "### Initialize the network\n",
    "The network is fully connected **with only one output node.**\n"
   ]
  },
  {
   "cell_type": "code",
   "execution_count": 6,
   "id": "0c8f0028",
   "metadata": {},
   "outputs": [],
   "source": [
    "nn = network()\n",
    "# Layers are added from input to output\n",
    "# pattern is (n_nodes, node_input_size, layer_output_size = n_nodes)\n",
    "nn.add_layer(3,2,3)\n",
    "# define the output layer\n",
    "nn.add_layer(1,3,1)"
   ]
  },
  {
   "cell_type": "code",
   "execution_count": 7,
   "metadata": {
    "collapsed": false
   },
   "outputs": [
    {
     "name": "stdout",
     "output_type": "stream",
     "text": [
      "layer : [2 input Neuron, 2 input Neuron, 2 input Neuron]\n",
      "node : [0.34420168 1.30965743]\n",
      "node : [-0.74489508  0.50682152]\n",
      "node : [-0.48361429 -1.19571825]\n",
      "layer : [3 input Neuron]\n",
      "node : [-1.96019302  1.24007769 -2.07193644]\n"
     ]
    }
   ],
   "source": [
    "## Displays the network\n",
    "nn.display_network()"
   ]
  },
  {
   "cell_type": "markdown",
   "metadata": {
    "collapsed": false
   },
   "source": [
    "### Train a logic gate"
   ]
  },
  {
   "cell_type": "code",
   "execution_count": 8,
   "id": "a7530ce4",
   "metadata": {},
   "outputs": [],
   "source": [
    "input_vals = np.array([[0,0],[0,1],[1,0],[1,1]])\n",
    "# change to xor, or, and by changing the targets\n",
    "targets = np.array([0,1,1,1])\n",
    "nn.train(input_vals,targets,10000,0.01)"
   ]
  },
  {
   "cell_type": "code",
   "execution_count": 9,
   "metadata": {
    "collapsed": false
   },
   "outputs": [
    {
     "name": "stdout",
     "output_type": "stream",
     "text": [
      "layer : [2 input Neuron, 2 input Neuron, 2 input Neuron]\n",
      "node : [-1.36534098 -0.43927058]\n",
      "node : [2.84384057 3.10311953]\n",
      "node : [-3.89652721 -3.9415704 ]\n",
      "layer : [3 input Neuron]\n",
      "node : [-1.52257729  5.48759651 -7.06587003]\n"
     ]
    }
   ],
   "source": [
    "nn.display_network()"
   ]
  },
  {
   "cell_type": "code",
   "execution_count": 10,
   "id": "0365873a",
   "metadata": {},
   "outputs": [
    {
     "data": {
      "text/plain": [
       "[0.015132528381028134,\n",
       " 0.992148114147861,\n",
       " 0.9926054598216302,\n",
       " 0.9987023865273418]"
      ]
     },
     "execution_count": 10,
     "metadata": {},
     "output_type": "execute_result"
    }
   ],
   "source": [
    "nn.predict(input_vals)"
   ]
  },
  {
   "cell_type": "markdown",
   "metadata": {
    "collapsed": false
   },
   "source": [
    "### Train on 2 classes of the IRIS dataset"
   ]
  },
  {
   "cell_type": "code",
   "execution_count": 11,
   "metadata": {
    "collapsed": false
   },
   "outputs": [],
   "source": [
    "#get iris dataset\n",
    "from sklearn.datasets import load_iris\n",
    "import pandas as pd\n",
    "# load the iris dataset\n",
    "iris = load_iris()\n",
    "# dataframe of iris data and labels\n",
    "iris_df = pd.DataFrame(iris.data, columns=iris.feature_names)\n",
    "iris_df['label'] = iris.target\n",
    "iris_df\n",
    "#get rows with values 0 and 1\n",
    "iris_df = iris_df[iris_df['label'] != 2]\n",
    "#split into training and testing data\n",
    "from sklearn.model_selection import train_test_split\n",
    "train, test = train_test_split(iris_df, test_size=0.2)\n",
    "# train df to two numpy arrays of features and labels\n",
    "iris_train_features = train.iloc[:,0:4].to_numpy()\n",
    "iris_train_labels = train.iloc[:,4].to_numpy()\n",
    "\n",
    "# test df to two numpy arrays of features and labels\n",
    "iris_test_features = test.iloc[:,0:4].to_numpy()\n",
    "iris_test_labels = test.iloc[:,4].to_numpy()"
   ]
  },
  {
   "cell_type": "code",
   "execution_count": 12,
   "metadata": {
    "collapsed": false
   },
   "outputs": [
    {
     "data": {
      "text/plain": [
       "<matplotlib.collections.PathCollection at 0x7fbc9984bfa0>"
      ]
     },
     "execution_count": 12,
     "metadata": {},
     "output_type": "execute_result"
    },
    {
     "data": {
      "image/png": "[encoded data removed]",
      "text/plain": [
       "<Figure size 432x288 with 1 Axes>"
      ]
     },
     "metadata": {
      "needs_background": "light"
     },
     "output_type": "display_data"
    }
   ],
   "source": [
    "# plot labels and features\n",
    "import matplotlib.pyplot as plt\n",
    "plt.scatter(iris_train_features[:,0], iris_train_features[:,1], c=iris_train_labels, cmap='viridis')"
   ]
  },
  {
   "cell_type": "code",
   "execution_count": 13,
   "metadata": {
    "collapsed": false
   },
   "outputs": [
    {
     "name": "stdout",
     "output_type": "stream",
     "text": [
      "(80, 4) (80,)\n",
      "(20, 4) (20,)\n"
     ]
    }
   ],
   "source": [
    "# dimensions of train and test sets\n",
    "print(iris_train_features.shape, iris_train_labels.shape)\n",
    "print(iris_test_features.shape, iris_test_labels.shape)"
   ]
  },
  {
   "cell_type": "code",
   "execution_count": 14,
   "metadata": {
    "collapsed": false
   },
   "outputs": [],
   "source": [
    "#initialize network\n",
    "nn = network()\n",
    "nn.add_layer(6,4,6)\n",
    "nn.add_layer(4,6,4)\n",
    "# define the output layer\n",
    "nn.add_layer(1,4,1)"
   ]
  },
  {
   "cell_type": "code",
   "execution_count": 15,
   "metadata": {
    "collapsed": false
   },
   "outputs": [],
   "source": [
    "nn.train(iris_train_features, iris_train_labels,10,0.01)\n",
    "nn.predict(iris_test_features)\n",
    "predictions = nn.predict(iris_test_features)\n",
    "predictions = np.where(np.array(predictions)>= 0.5, 1, 0)"
   ]
  },
  {
   "cell_type": "code",
   "execution_count": 16,
   "metadata": {
    "collapsed": false
   },
   "outputs": [
    {
     "name": "stdout",
     "output_type": "stream",
     "text": [
      "              precision    recall  f1-score   support\n",
      "\n",
      "           0       1.00      0.91      0.95        11\n",
      "           1       0.90      1.00      0.95         9\n",
      "\n",
      "    accuracy                           0.95        20\n",
      "   macro avg       0.95      0.95      0.95        20\n",
      "weighted avg       0.96      0.95      0.95        20\n",
      "\n"
     ]
    }
   ],
   "source": [
    "from sklearn.metrics import classification_report\n",
    "print(classification_report(iris_test_labels, predictions))"
   ]
  },
  {
   "cell_type": "code",
   "execution_count": 17,
   "metadata": {
    "collapsed": false
   },
   "outputs": [
    {
     "name": "stdout",
     "output_type": "stream",
     "text": [
      "              precision    recall  f1-score   support\n",
      "\n",
      "           0       1.00      1.00      1.00        11\n",
      "           1       1.00      1.00      1.00         9\n",
      "\n",
      "    accuracy                           1.00        20\n",
      "   macro avg       1.00      1.00      1.00        20\n",
      "weighted avg       1.00      1.00      1.00        20\n",
      "\n"
     ]
    },
    {
     "name": "stderr",
     "output_type": "stream",
     "text": [
      "/Users/udeshhabaraduwa/opt/anaconda3/lib/python3.8/site-packages/sklearn/neural_network/_multilayer_perceptron.py:470: ConvergenceWarning: lbfgs failed to converge (status=1):\n",
      "STOP: TOTAL NO. of ITERATIONS REACHED LIMIT.\n",
      "\n",
      "Increase the number of iterations (max_iter) or scale the data as shown in:\n",
      "    https://scikit-learn.org/stable/modules/preprocessing.html\n",
      "  self.n_iter_ = _check_optimize_result(\"lbfgs\", opt_res, self.max_iter)\n"
     ]
    }
   ],
   "source": [
    "# sklearn neural network to classify iris dataset\n",
    "from sklearn.neural_network import MLPClassifier\n",
    "clf = MLPClassifier(solver='lbfgs', alpha=1e-5, hidden_layer_sizes=(6,4), random_state=1, learning_rate_init=0.01, max_iter = 10)\n",
    "clf.fit(iris_train_features, iris_train_labels)\n",
    "\n",
    "from sklearn.metrics import classification_report\n",
    "print(classification_report(iris_test_labels, clf.predict(iris_test_features)))\n"
   ]
  },
  {
   "cell_type": "markdown",
   "metadata": {
    "collapsed": false
   },
   "source": [
    "### Train on the Circles dataset"
   ]
  },
  {
   "cell_type": "code",
   "execution_count": 18,
   "metadata": {
    "collapsed": false
   },
   "outputs": [
    {
     "data": {
      "text/plain": [
       "<matplotlib.collections.PathCollection at 0x7fbc99860c10>"
      ]
     },
     "execution_count": 18,
     "metadata": {},
     "output_type": "execute_result"
    },
    {
     "data": {
      "image/png": "[encoded data removed]",
      "text/plain": [
       "<Figure size 432x288 with 1 Axes>"
      ]
     },
     "metadata": {
      "needs_background": "light"
     },
     "output_type": "display_data"
    }
   ],
   "source": [
    "# sklearn make circles dataset\n",
    "from sklearn.datasets import make_circles\n",
    "import matplotlib.pyplot as plt\n",
    "# generate dataset\n",
    "X_circles, y_circles = make_circles(n_samples=1000, noise=0.1, factor=0.2, random_state=1)\n",
    "# plot dataset\n",
    "plt.scatter(X_circles[:,0], X_circles[:,1], c=y_circles, cmap='viridis')"
   ]
  },
  {
   "cell_type": "code",
   "execution_count": 19,
   "metadata": {
    "collapsed": false
   },
   "outputs": [],
   "source": [
    "# split into training and testing data\n",
    "from sklearn.model_selection import train_test_split\n",
    "X_train_circles, X_test_circles, y_train_circles, y_test_circles= train_test_split(X_circles, y_circles, test_size=0.2, random_state=42)\n"
   ]
  },
  {
   "cell_type": "code",
   "execution_count": 20,
   "metadata": {
    "collapsed": false
   },
   "outputs": [],
   "source": [
    "# define network\n",
    "nn = network()\n",
    "nn.add_layer(3,2,3)\n",
    "# define the output layer\n",
    "nn.add_layer(1,3,1)"
   ]
  },
  {
   "cell_type": "code",
   "execution_count": 21,
   "metadata": {
    "collapsed": false
   },
   "outputs": [
    {
     "name": "stdout",
     "output_type": "stream",
     "text": [
      "layer : [2 input Neuron, 2 input Neuron, 2 input Neuron]\n",
      "node : [-0.28878364 -0.0268412 ]\n",
      "node : [0.85395699 1.23870221]\n",
      "node : [-0.35895094  0.71459168]\n",
      "layer : [3 input Neuron]\n",
      "node : [ 0.72948524  0.02126069 -1.35575497]\n"
     ]
    }
   ],
   "source": [
    "# displays the network\n",
    "nn.display_network()"
   ]
  },
  {
   "cell_type": "code",
   "execution_count": 22,
   "metadata": {
    "collapsed": false
   },
   "outputs": [],
   "source": [
    "nn.train(X_train_circles, y_train_circles, 1000, 0.01)"
   ]
  },
  {
   "cell_type": "code",
   "execution_count": 23,
   "metadata": {
    "collapsed": false
   },
   "outputs": [
    {
     "name": "stdout",
     "output_type": "stream",
     "text": [
      "layer : [2 input Neuron, 2 input Neuron, 2 input Neuron]\n",
      "node : [-9.70663216  2.05114507]\n",
      "node : [6.81096497 8.08624113]\n",
      "node : [-3.10045648  9.91538909]\n",
      "layer : [3 input Neuron]\n",
      "node : [ 12.70058648  12.83275286 -14.03204769]\n"
     ]
    }
   ],
   "source": [
    "nn.display_network()"
   ]
  },
  {
   "cell_type": "code",
   "execution_count": 24,
   "metadata": {
    "collapsed": false
   },
   "outputs": [
    {
     "name": "stdout",
     "output_type": "stream",
     "text": [
      "              precision    recall  f1-score   support\n",
      "\n",
      "           0       1.00      0.99      0.99        97\n",
      "           1       0.99      1.00      1.00       103\n",
      "\n",
      "    accuracy                           0.99       200\n",
      "   macro avg       1.00      0.99      0.99       200\n",
      "weighted avg       1.00      0.99      0.99       200\n",
      "\n"
     ]
    }
   ],
   "source": [
    "predictions = nn.predict(X_test_circles)\n",
    "predictions = np.where(np.array(predictions)>= 0.5, 1, 0)\n",
    "from sklearn.metrics import classification_report\n",
    "print(classification_report(y_test_circles, predictions))"
   ]
  },
  {
   "cell_type": "code",
   "execution_count": null,
   "metadata": {
    "collapsed": false
   },
   "outputs": [],
   "source": []
  }
 ],
 "metadata": {
  "kernelspec": {
   "display_name": "base",
   "language": "python",
   "name": "python3"
  },
  "language_info": {
   "codemirror_mode": {
    "name": "ipython",
    "version": 3
   },
   "file_extension": ".py",
   "mimetype": "text/x-python",
   "name": "python",
   "nbconvert_exporter": "python",
   "pygments_lexer": "ipython3",
   "version": "3.11.0"
  },
  "vscode": {
   "interpreter": {
    "hash": "e38469b9c6e4225fd4c89ea910cf7d93628024013c14f18382b4d58210abb49c"
   }
  }
 },
 "nbformat": 4,
 "nbformat_minor": 5
}
